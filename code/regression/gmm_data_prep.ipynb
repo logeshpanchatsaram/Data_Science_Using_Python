{
 "cells": [
  {
   "cell_type": "code",
   "execution_count": 1,
   "metadata": {
    "collapsed": true
   },
   "outputs": [],
   "source": [
    "import pandas"
   ]
  },
  {
   "cell_type": "code",
   "execution_count": 2,
   "metadata": {
    "collapsed": true
   },
   "outputs": [],
   "source": [
    "usecols = ['borough_code', 'date_processed', 'house_flat',\"ward_code\",\n",
    "       'inner_outer', 'local_authority', 'month',\n",
    "       'post_code', 'post_code_clean', 'postcode', 'price', 'property_type',\n",
    "       'quarter', 'tenure', 'town',\n",
    "       'transaction_id', 'whether_new',\n",
    "       'whether_newbuild', 'year', 'year_month']\n",
    "london = pandas.read_csv(\"/home/vivek/Documents/mydata/iimb/london_real_estate/london_data_complete.csv\",usecols=usecols,low_memory=False)"
   ]
  },
  {
   "cell_type": "code",
   "execution_count": 3,
   "metadata": {
    "collapsed": true
   },
   "outputs": [],
   "source": [
    "london[\"year_month_new\"] = london[\"year\"]*100 + london[\"month\"]\n",
    "london = london[london[\"year_month_new\"]>=200901]"
   ]
  },
  {
   "cell_type": "code",
   "execution_count": 4,
   "metadata": {
    "collapsed": true
   },
   "outputs": [],
   "source": [
    "londonPrice = pandas.DataFrame(london.groupby(by=[\"post_code\",\"year_month_new\"])[\"price\"].mean()).reset_index()"
   ]
  },
  {
   "cell_type": "code",
   "execution_count": 5,
   "metadata": {
    "collapsed": true
   },
   "outputs": [],
   "source": [
    "google_places = pandas.read_csv(\"/home/vivek/Documents/mydata/iimb/google_places_details/google_places_complete_with_missing.csv\")\n",
    "ndvi = pandas.read_csv(\"/home/vivek/Documents/mydata/iimb/satellite_images/ndvi.csv\")\n",
    "temp = pandas.read_csv(\"/home/vivek/Documents/mydata/iimb/economic_social/temperature.csv\")\n",
    "ndvi = ndvi.drop([\"latitude\",\"longitude\"],axis=1)"
   ]
  },
  {
   "cell_type": "code",
   "execution_count": 6,
   "metadata": {
    "collapsed": true
   },
   "outputs": [],
   "source": [
    "londonPrice = londonPrice.merge(google_places,how=\"left\",on=\"post_code\")\n",
    "londonPrice = londonPrice.merge(ndvi,how=\"left\",on=\"post_code\")\n",
    "londonPrice = londonPrice.merge(temp,how=\"left\",left_on=\"year_month_new\",right_on=\"YearMon\")"
   ]
  },
  {
   "cell_type": "code",
   "execution_count": 7,
   "metadata": {
    "collapsed": true
   },
   "outputs": [],
   "source": [
    "londonPrice.to_csv(\"/home/vivek/Documents/mydata/iimb/regression/regression_input.csv\")"
   ]
  },
  {
   "cell_type": "code",
   "execution_count": null,
   "metadata": {
    "collapsed": true
   },
   "outputs": [],
   "source": [
    "## GMM Model"
   ]
  },
  {
   "cell_type": "code",
   "execution_count": null,
   "metadata": {
    "collapsed": true
   },
   "outputs": [],
   "source": [
    "import statsmodels.api as sm\n",
    "import statsmodels.formula.api as smf\n",
    "import time"
   ]
  },
  {
   "cell_type": "code",
   "execution_count": null,
   "metadata": {
    "collapsed": true
   },
   "outputs": [],
   "source": [
    "londonPrice = pandas.read_csv(\"/home/vivek/Documents/mydata/iimb/regression/regression_input.csv\")"
   ]
  },
  {
   "cell_type": "code",
   "execution_count": null,
   "metadata": {
    "collapsed": true
   },
   "outputs": [],
   "source": [
    "train = londonPrice[londonPrice[\"year_month_new\"]<201401]\n",
    "test = londonPrice[londonPrice[\"year_month_new\"]>=201401]"
   ]
  },
  {
   "cell_type": "code",
   "execution_count": null,
   "metadata": {
    "collapsed": true
   },
   "outputs": [],
   "source": [
    "start_time = time.time()\n",
    "print (start_time)\n",
    "md = smf.mixedlm('price~year_month_new  + liquor_store_500 + airport_10000 + atm_500 + bank_500 + bus_station_500 + church_500 + hospital_500 + park_500 + parking_500 + pharmacy_500 + police_500 + restaurant_500 + school_500 + taxi_stand_2000 + train_station_1000 + university_500 + ndvi_max + ndvi_mean + ndvi_median + ndvi_min  + Month + Tmax + Tmin + af_days + rain_mm + sun_hours',train, groups=train[\"post_code\"],re_formula=\"~year_month_new\")\n",
    "mdf = md.fit()\n",
    "print(mdf.summary())\n",
    "print(\"Total Time Taken Is %s seconds\" % (time.time() - start_time))"
   ]
  }
 ],
 "metadata": {
  "kernelspec": {
   "display_name": "Python [Root]",
   "language": "python",
   "name": "Python [Root]"
  },
  "language_info": {
   "codemirror_mode": {
    "name": "ipython",
    "version": 3
   },
   "file_extension": ".py",
   "mimetype": "text/x-python",
   "name": "python",
   "nbconvert_exporter": "python",
   "pygments_lexer": "ipython3",
   "version": "3.5.2"
  }
 },
 "nbformat": 4,
 "nbformat_minor": 2
}
