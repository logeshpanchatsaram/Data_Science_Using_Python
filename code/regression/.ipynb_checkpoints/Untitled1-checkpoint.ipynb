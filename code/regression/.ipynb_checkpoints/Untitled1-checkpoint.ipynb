{
 "cells": [
  {
   "cell_type": "code",
   "execution_count": 1,
   "metadata": {
    "collapsed": true
   },
   "outputs": [],
   "source": [
    "import clearbit\n",
    "import pandas as pd\n",
    "import json\n",
    "from pandas.io.json import json_normalize\n",
    "from pprint import pprint\n",
    "\n",
    "clearbit.key = 'sk_dd651b1776070e06fef1aa544aedc752'\n",
    "df1=pd.read_csv(\"D://testcsv.csv\")\n",
    "\n"
   ]
  },
  {
   "cell_type": "code",
   "execution_count": 2,
   "metadata": {
    "collapsed": false
   },
   "outputs": [
    {
     "data": {
      "text/html": [
       "<div>\n",
       "<style>\n",
       "    .dataframe thead tr:only-child th {\n",
       "        text-align: right;\n",
       "    }\n",
       "\n",
       "    .dataframe thead th {\n",
       "        text-align: left;\n",
       "    }\n",
       "\n",
       "    .dataframe tbody tr th {\n",
       "        vertical-align: top;\n",
       "    }\n",
       "</style>\n",
       "<table border=\"1\" class=\"dataframe\">\n",
       "  <thead>\n",
       "    <tr style=\"text-align: right;\">\n",
       "      <th></th>\n",
       "      <th>Domain</th>\n",
       "    </tr>\n",
       "  </thead>\n",
       "  <tbody>\n",
       "    <tr>\n",
       "      <th>0</th>\n",
       "      <td>1800flowers.com</td>\n",
       "    </tr>\n",
       "    <tr>\n",
       "      <th>1</th>\n",
       "      <td>21st.com</td>\n",
       "    </tr>\n",
       "    <tr>\n",
       "      <th>2</th>\n",
       "      <td>53.com</td>\n",
       "    </tr>\n",
       "  </tbody>\n",
       "</table>\n",
       "</div>"
      ],
      "text/plain": [
       "            Domain\n",
       "0  1800flowers.com\n",
       "1         21st.com\n",
       "2           53.com"
      ]
     },
     "execution_count": 2,
     "metadata": {},
     "output_type": "execute_result"
    }
   ],
   "source": [
    "df1"
   ]
  },
  {
   "cell_type": "code",
   "execution_count": 13,
   "metadata": {
    "collapsed": false
   },
   "outputs": [
    {
     "data": {
      "text/html": [
       "<div>\n",
       "<style>\n",
       "    .dataframe thead tr:only-child th {\n",
       "        text-align: right;\n",
       "    }\n",
       "\n",
       "    .dataframe thead th {\n",
       "        text-align: left;\n",
       "    }\n",
       "\n",
       "    .dataframe tbody tr th {\n",
       "        vertical-align: top;\n",
       "    }\n",
       "</style>\n",
       "<table border=\"1\" class=\"dataframe\">\n",
       "  <thead>\n",
       "    <tr style=\"text-align: right;\">\n",
       "      <th></th>\n",
       "      <th>category.industry</th>\n",
       "      <th>category.industryGroup</th>\n",
       "      <th>category.naicsCode</th>\n",
       "      <th>category.sector</th>\n",
       "      <th>category.sicCode</th>\n",
       "      <th>category.subIndustry</th>\n",
       "      <th>crunchbase.handle</th>\n",
       "      <th>description</th>\n",
       "      <th>domain</th>\n",
       "      <th>domainAliases</th>\n",
       "      <th>...</th>\n",
       "      <th>twitter.avatar</th>\n",
       "      <th>twitter.bio</th>\n",
       "      <th>twitter.followers</th>\n",
       "      <th>twitter.following</th>\n",
       "      <th>twitter.handle</th>\n",
       "      <th>twitter.id</th>\n",
       "      <th>twitter.location</th>\n",
       "      <th>twitter.site</th>\n",
       "      <th>type</th>\n",
       "      <th>utcOffset</th>\n",
       "    </tr>\n",
       "  </thead>\n",
       "  <tbody>\n",
       "    <tr>\n",
       "      <th>0</th>\n",
       "      <td>Retailing</td>\n",
       "      <td>Retailing</td>\n",
       "      <td>45</td>\n",
       "      <td>Consumer Discretionary</td>\n",
       "      <td>59</td>\n",
       "      <td>Retailing</td>\n",
       "      <td>organization/1-800-flowers-com</td>\n",
       "      <td>Send flowers and send a smile! Discover fresh ...</td>\n",
       "      <td>1800flowers.com</td>\n",
       "      <td>[800flowers.com, 1800flowers.co.nz, 1-800-flow...</td>\n",
       "      <td>...</td>\n",
       "      <td>https://pbs.twimg.com/profile_images/922528600...</td>\n",
       "      <td>For over 40 years, we’ve been your destination...</td>\n",
       "      <td>45407</td>\n",
       "      <td>11684</td>\n",
       "      <td>1800flowers</td>\n",
       "      <td>14780856</td>\n",
       "      <td>New York</td>\n",
       "      <td>https://t.co/bTgDJOfXTk</td>\n",
       "      <td>public</td>\n",
       "      <td>-5</td>\n",
       "    </tr>\n",
       "    <tr>\n",
       "      <th>0</th>\n",
       "      <td>Insurance</td>\n",
       "      <td>Insurance</td>\n",
       "      <td>52</td>\n",
       "      <td>Financials</td>\n",
       "      <td>64</td>\n",
       "      <td>Insurance</td>\n",
       "      <td>organization/21st-century-insurance</td>\n",
       "      <td>Get a car insurance quote free online from 21s...</td>\n",
       "      <td>21st.com</td>\n",
       "      <td>[21stcenturyinsurance.info, 21stclaims.com, 21...</td>\n",
       "      <td>...</td>\n",
       "      <td>https://pbs.twimg.com/profile_images/333804009...</td>\n",
       "      <td>Official 21st Century Auto tweets about insura...</td>\n",
       "      <td>895</td>\n",
       "      <td>224</td>\n",
       "      <td>21stCenturyAuto</td>\n",
       "      <td>159533022</td>\n",
       "      <td>Wilmington, DE</td>\n",
       "      <td>http://t.co/7uw23X8GSs</td>\n",
       "      <td>private</td>\n",
       "      <td>-5</td>\n",
       "    </tr>\n",
       "    <tr>\n",
       "      <th>0</th>\n",
       "      <td>Banks</td>\n",
       "      <td>Banks</td>\n",
       "      <td>52</td>\n",
       "      <td>Financials</td>\n",
       "      <td>60</td>\n",
       "      <td>Banking &amp; Mortgages</td>\n",
       "      <td>organization/fifth-third-bancorp</td>\n",
       "      <td>Fifth Third Bank has all the personal banking ...</td>\n",
       "      <td>53.com</td>\n",
       "      <td>[fifththirdbancorp.biz, fifththird.net, fnbfor...</td>\n",
       "      <td>...</td>\n",
       "      <td>https://pbs.twimg.com/profile_images/880863478...</td>\n",
       "      <td>At Fifth Third Bank, we’re working hard to mak...</td>\n",
       "      <td>34940</td>\n",
       "      <td>154</td>\n",
       "      <td>FifthThird</td>\n",
       "      <td>231213589</td>\n",
       "      <td>Cincinnati, OH</td>\n",
       "      <td>https://t.co/iwj6gO2Oc3</td>\n",
       "      <td>public</td>\n",
       "      <td>-5</td>\n",
       "    </tr>\n",
       "  </tbody>\n",
       "</table>\n",
       "<p>3 rows × 60 columns</p>\n",
       "</div>"
      ],
      "text/plain": [
       "  category.industry category.industryGroup category.naicsCode  \\\n",
       "0         Retailing              Retailing                 45   \n",
       "0         Insurance              Insurance                 52   \n",
       "0             Banks                  Banks                 52   \n",
       "\n",
       "          category.sector category.sicCode category.subIndustry  \\\n",
       "0  Consumer Discretionary               59            Retailing   \n",
       "0              Financials               64            Insurance   \n",
       "0              Financials               60  Banking & Mortgages   \n",
       "\n",
       "                     crunchbase.handle  \\\n",
       "0       organization/1-800-flowers-com   \n",
       "0  organization/21st-century-insurance   \n",
       "0     organization/fifth-third-bancorp   \n",
       "\n",
       "                                         description           domain  \\\n",
       "0  Send flowers and send a smile! Discover fresh ...  1800flowers.com   \n",
       "0  Get a car insurance quote free online from 21s...         21st.com   \n",
       "0  Fifth Third Bank has all the personal banking ...           53.com   \n",
       "\n",
       "                                       domainAliases    ...     \\\n",
       "0  [800flowers.com, 1800flowers.co.nz, 1-800-flow...    ...      \n",
       "0  [21stcenturyinsurance.info, 21stclaims.com, 21...    ...      \n",
       "0  [fifththirdbancorp.biz, fifththird.net, fnbfor...    ...      \n",
       "\n",
       "                                      twitter.avatar  \\\n",
       "0  https://pbs.twimg.com/profile_images/922528600...   \n",
       "0  https://pbs.twimg.com/profile_images/333804009...   \n",
       "0  https://pbs.twimg.com/profile_images/880863478...   \n",
       "\n",
       "                                         twitter.bio  twitter.followers  \\\n",
       "0  For over 40 years, we’ve been your destination...              45407   \n",
       "0  Official 21st Century Auto tweets about insura...                895   \n",
       "0  At Fifth Third Bank, we’re working hard to mak...              34940   \n",
       "\n",
       "   twitter.following   twitter.handle twitter.id twitter.location  \\\n",
       "0              11684      1800flowers   14780856         New York   \n",
       "0                224  21stCenturyAuto  159533022   Wilmington, DE   \n",
       "0                154       FifthThird  231213589   Cincinnati, OH   \n",
       "\n",
       "              twitter.site     type utcOffset  \n",
       "0  https://t.co/bTgDJOfXTk   public        -5  \n",
       "0   http://t.co/7uw23X8GSs  private        -5  \n",
       "0  https://t.co/iwj6gO2Oc3   public        -5  \n",
       "\n",
       "[3 rows x 60 columns]"
      ]
     },
     "execution_count": 13,
     "metadata": {},
     "output_type": "execute_result"
    }
   ],
   "source": [
    "finalDataframe = pd.DataFrame()\n",
    "for domain in df1[\"Domain\"]: \n",
    "    company = clearbit.Company.find(domain=domain)\n",
    "    if company != None and 'pending' not in company:\n",
    "        finalDataframe = finalDataframe.append(json_normalize(company))\n",
    "finalDataframe.to_csv(\"writecsv.csv\", index=False, sep='\\t', encoding=\"utf-8\")"
   ]
  },
  {
   "cell_type": "code",
   "execution_count": 10,
   "metadata": {
    "collapsed": false
   },
   "outputs": [
    {
     "data": {
      "text/plain": [
       "pandas.core.frame.DataFrame"
      ]
     },
     "execution_count": 10,
     "metadata": {},
     "output_type": "execute_result"
    }
   ],
   "source": [
    "type(json_normalize(company))"
   ]
  },
  {
   "cell_type": "code",
   "execution_count": null,
   "metadata": {
    "collapsed": true
   },
   "outputs": [],
   "source": []
  }
 ],
 "metadata": {
  "anaconda-cloud": {},
  "kernelspec": {
   "display_name": "Python [Root]",
   "language": "python",
   "name": "Python [Root]"
  },
  "language_info": {
   "codemirror_mode": {
    "name": "ipython",
    "version": 3
   },
   "file_extension": ".py",
   "mimetype": "text/x-python",
   "name": "python",
   "nbconvert_exporter": "python",
   "pygments_lexer": "ipython3",
   "version": "3.5.2"
  }
 },
 "nbformat": 4,
 "nbformat_minor": 0
}
